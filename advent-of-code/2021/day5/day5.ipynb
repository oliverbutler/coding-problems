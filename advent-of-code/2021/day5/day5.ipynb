{
 "cells": [
  {
   "cell_type": "code",
   "execution_count": 17,
   "metadata": {},
   "outputs": [
    {
     "name": "stdout",
     "output_type": "stream",
     "text": [
      "test 5 12\n",
      "real 7142 20012\n"
     ]
    }
   ],
   "source": [
    "from typing import Tuple\n",
    "from collections import defaultdict\n",
    "\n",
    "Coordinate = Tuple[int, int]\n",
    "\n",
    "def str_to_cord(str) -> Coordinate:\n",
    "    return [int(i) for i in str.split(',')]\n",
    "\n",
    "\n",
    "def get_intersecting(cords: list[tuple[Coordinate, Coordinate]], allow_diagonal: bool):\n",
    "    grid: dict[Coordinate, int] = defaultdict(int)\n",
    "\n",
    "    for cord in cords:\n",
    "        p1, p2 = cord[0], cord[1]\n",
    "        cx, cy = p1[0], p1[1]\n",
    "\n",
    "        x_step = 1 if p2[0] > p1[0] else 0 if p2[0] == p1[0] else -1\n",
    "        y_step = 1 if p2[1] > p1[1] else 0 if p2[1] == p1[1] else -1\n",
    "\n",
    "        if not (allow_diagonal == False and x_step != 0 and y_step != 0):\n",
    "            moving = True\n",
    "\n",
    "            while moving:\n",
    "                grid[(cx, cy)] += 1\n",
    "\n",
    "                if cx == p2[0] and cy == p2[1]:\n",
    "                    moving = False\n",
    "\n",
    "                cx += x_step\n",
    "                cy += y_step\n",
    "\n",
    "    return len([c for c in grid.values() if c > 1])\n",
    "\n",
    "def main(file, type):\n",
    "    data: list[str] = file.readlines()\n",
    "\n",
    "    formatted_data: list[tuple[Coordinate, Coordinate]] = []\n",
    "\n",
    "    for line in data:\n",
    "        split_line = line.split()\n",
    "        formatted_data.append((str_to_cord(split_line[0]), str_to_cord(split_line[2])))\n",
    "        \n",
    "    print(type, get_intersecting(formatted_data, False), get_intersecting(formatted_data, True))    \n",
    "\n",
    "    \n",
    "\n",
    "with open(\"test.txt\") as input_file:\n",
    "    main(input_file, \"test\")\n",
    "\n",
    "with open(\"input.txt\") as input_file:\n",
    "    main(input_file, \"real\")\n",
    "\n",
    "    \n"
   ]
  }
 ],
 "metadata": {
  "interpreter": {
   "hash": "db580b56788f7e7264820304fb034da45b7fb993299b660d673d291b6a838a8e"
  },
  "kernelspec": {
   "display_name": "Python 3.10.0 64-bit ('3.10.0': pyenv)",
   "language": "python",
   "name": "python3"
  },
  "language_info": {
   "codemirror_mode": {
    "name": "ipython",
    "version": 3
   },
   "file_extension": ".py",
   "mimetype": "text/x-python",
   "name": "python",
   "nbconvert_exporter": "python",
   "pygments_lexer": "ipython3",
   "version": "3.10.0"
  },
  "orig_nbformat": 4
 },
 "nbformat": 4,
 "nbformat_minor": 2
}
