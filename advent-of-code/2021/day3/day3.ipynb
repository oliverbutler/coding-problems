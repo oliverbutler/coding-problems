{
 "cells": [
  {
   "cell_type": "code",
   "execution_count": 87,
   "metadata": {},
   "outputs": [],
   "source": [
    "def part_1(data):\n",
    "    return get_common_bit(data, True) * get_common_bit(data, False)\n",
    "\n",
    "def part_2(data):\n",
    "    return reduce_common_bit(data, True) * reduce_common_bit(data, False)\n",
    "\n",
    "def get_most_common_bit_in_col(data: list[str], col_index: int):\n",
    "    sum = 0\n",
    "    for row_index in range(len(data)):\n",
    "        sum += int(data[row_index][col_index])\n",
    "    return \"1\" if sum >= len(data) / 2 else \"0\"\n",
    "\n",
    "def get_common_bit(data: list[str], most: bool):\n",
    "    common_bits = []\n",
    "    for col_index in range(len(data[0])):\n",
    "        most_common_in_col = get_most_common_bit_in_col(data, col_index)\n",
    "        common_bits.append( \"1\" if most_common_in_col == (\"1\" if most else \"0\") else \"0\")\n",
    "    return int(\"\".join(common_bits), 2)\n",
    "\n",
    "def reduce_common_bit(data: list[str], most: bool):\n",
    "    reduced_common_bits = data\n",
    "\n",
    "    for col_index in range(len(data[0])):\n",
    "        if len(reduced_common_bits) == 1:\n",
    "            break\n",
    "        most_common_bit_in_col = get_most_common_bit_in_col(reduced_common_bits, col_index)\n",
    "\n",
    "        target_bit = most_common_bit_in_col if most else (\"0\" if most_common_bit_in_col == \"1\" else \"1\")\n",
    "\n",
    "        reduced_common_bits = list(filter(lambda bits: bits[col_index] == target_bit, reduced_common_bits))\n",
    "\n",
    "    return int(\"\".join(reduced_common_bits[0]), 2)"
   ]
  },
  {
   "cell_type": "code",
   "execution_count": 88,
   "metadata": {},
   "outputs": [
    {
     "name": "stdout",
     "output_type": "stream",
     "text": [
      "198 230\n",
      "3882564 3385170\n"
     ]
    }
   ],
   "source": [
    "def main(file, type):\n",
    "    data = file.read().splitlines()\n",
    "    print (f'{part_1(data)} {part_2(data)}')\n",
    "\n",
    "with open(\"test.txt\") as input_file:\n",
    "    main(input_file, \"test\")\n",
    "\n",
    "with open(\"input.txt\") as input_file:\n",
    "    main(input_file, \"real\")\n",
    "\n",
    "    \n"
   ]
  }
 ],
 "metadata": {
  "interpreter": {
   "hash": "b0fa6594d8f4cbf19f97940f81e996739fb7646882a419484c72d19e05852a7e"
  },
  "kernelspec": {
   "display_name": "Python 3.9.7 64-bit",
   "language": "python",
   "name": "python3"
  },
  "language_info": {
   "codemirror_mode": {
    "name": "ipython",
    "version": 3
   },
   "file_extension": ".py",
   "mimetype": "text/x-python",
   "name": "python",
   "nbconvert_exporter": "python",
   "pygments_lexer": "ipython3",
   "version": "3.10.0"
  },
  "orig_nbformat": 4
 },
 "nbformat": 4,
 "nbformat_minor": 2
}
