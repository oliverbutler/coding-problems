{
 "cells": [
  {
   "cell_type": "code",
   "execution_count": 45,
   "metadata": {},
   "outputs": [],
   "source": [
    "def part_1(data):\n",
    "    return data\n",
    "\n",
    "def part_2(data):\n",
    "    return data"
   ]
  },
  {
   "cell_type": "code",
   "execution_count": 46,
   "metadata": {},
   "outputs": [
    {
     "name": "stdout",
     "output_type": "stream",
     "text": [
      "['']\n",
      "bingo boards []\n",
      "['']\n",
      "bingo boards []\n"
     ]
    }
   ],
   "source": [
    "def main(file, type):\n",
    "    nums = file.readlines().pop(0).strip().split(\",\")\n",
    "\n",
    "    bingo_boards: list[list[list[str]]] = []\n",
    "\n",
    "    print(file.read().split(\"\\n\\n\"))\n",
    "\n",
    "    print(\"bingo boards\", bingo_boards)\n",
    "\n",
    "    # print (f'{part_1(data)} {part_2(data)}')\n",
    "\n",
    "with open(\"test.txt\") as input_file:\n",
    "    main(input_file, \"test\")\n",
    "\n",
    "with open(\"input.txt\") as input_file:\n",
    "    main(input_file, \"real\")\n",
    "\n",
    "    \n"
   ]
  }
 ],
 "metadata": {
  "interpreter": {
   "hash": "db580b56788f7e7264820304fb034da45b7fb993299b660d673d291b6a838a8e"
  },
  "kernelspec": {
   "display_name": "Python 3.10.0 64-bit ('3.10.0': pyenv)",
   "language": "python",
   "name": "python3"
  },
  "language_info": {
   "codemirror_mode": {
    "name": "ipython",
    "version": 3
   },
   "file_extension": ".py",
   "mimetype": "text/x-python",
   "name": "python",
   "nbconvert_exporter": "python",
   "pygments_lexer": "ipython3",
   "version": "3.10.0"
  },
  "orig_nbformat": 4
 },
 "nbformat": 4,
 "nbformat_minor": 2
}
