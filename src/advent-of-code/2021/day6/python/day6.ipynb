{
 "cells": [
  {
   "cell_type": "code",
   "execution_count": 59,
   "metadata": {},
   "outputs": [],
   "source": [
    "from collections import defaultdict\n",
    "\n",
    "def simulate_fishies(input: list[int], days: int):\n",
    "    fish: dict[int, int] = defaultdict(int)\n",
    "\n",
    "    for i in input: fish[i] += 1\n",
    "\n",
    "    for _ in range(0, days):\n",
    "        tomorrow_fish: dict[int, int] = defaultdict(int)\n",
    "        for i in range(0, 8 + 1):\n",
    "            if i == 0:\n",
    "               tomorrow_fish[6] += fish[i]\n",
    "               tomorrow_fish[8] = fish[i]\n",
    "            else:\n",
    "                tomorrow_fish[i-1] += fish[i]\n",
    "        fish = tomorrow_fish\n",
    "\n",
    "    return sum([i for i in fish.values()])"
   ]
  },
  {
   "cell_type": "code",
   "execution_count": 60,
   "metadata": {},
   "outputs": [
    {
     "name": "stdout",
     "output_type": "stream",
     "text": [
      "test 5934 26984457539\n",
      "real 345387 1574445493136\n"
     ]
    }
   ],
   "source": [
    "def main(file, type):\n",
    "    data: list[str] = file.readlines()\n",
    "\n",
    "    data_arr = [int(i) for i in data[0].split(\",\")]\n",
    "        \n",
    "    print(type, simulate_fishies(data_arr, 80), simulate_fishies(data_arr, 256))    \n",
    "\n",
    "    \n",
    "\n",
    "with open(\"../test.txt\") as input_file:\n",
    "    main(input_file, \"test\")\n",
    "\n",
    "with open(\"../input.txt\") as input_file:\n",
    "    main(input_file, \"real\")"
   ]
  }
 ],
 "metadata": {
  "interpreter": {
   "hash": "db580b56788f7e7264820304fb034da45b7fb993299b660d673d291b6a838a8e"
  },
  "kernelspec": {
   "display_name": "Python 3.10.0 64-bit ('3.10.0': pyenv)",
   "language": "python",
   "name": "python3"
  },
  "language_info": {
   "codemirror_mode": {
    "name": "ipython",
    "version": 3
   },
   "file_extension": ".py",
   "mimetype": "text/x-python",
   "name": "python",
   "nbconvert_exporter": "python",
   "pygments_lexer": "ipython3",
   "version": "3.10.0"
  },
  "orig_nbformat": 4
 },
 "nbformat": 4,
 "nbformat_minor": 2
}
