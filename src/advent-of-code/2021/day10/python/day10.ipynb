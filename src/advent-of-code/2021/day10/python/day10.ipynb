{
 "cells": [
  {
   "cell_type": "code",
   "execution_count": 123,
   "metadata": {},
   "outputs": [],
   "source": [
    "from time import perf_counter as pfc\n",
    "\n",
    "def find_first_illegal(row: str) -> int:\n",
    "    chars: list[str] = []\n",
    "    for c in row:\n",
    "        if c == \"(\" or c == \"[\" or c == \"{\" or c == \"<\":\n",
    "            chars.append(c)\n",
    "        else:\n",
    "            last_char = chars.pop()\n",
    "            if c == \")\" and last_char != \"(\":\n",
    "                return 3\n",
    "            elif c == \"]\" and last_char != \"[\":\n",
    "                return 57\n",
    "            elif c == \"}\" and last_char != \"{\":\n",
    "                return 1197\n",
    "            elif c == \">\" and last_char != \"<\":\n",
    "                return 25137\n",
    "    return 0\n",
    "\n",
    "def autocomplete_incomplete_lines(row: str) -> int:\n",
    "    queue: list[str] = []\n",
    "\n",
    "    for c in row:\n",
    "        if c == \"(\" or c == \"[\" or c == \"{\" or c == \"<\": \n",
    "            queue.append(c)\n",
    "        else: \n",
    "            queue.pop()\n",
    "    \n",
    "    score = 0\n",
    "\n",
    "    for e in queue[::-1]:\n",
    "        if e == \"(\": score = score * 5 + 1\n",
    "        if e == \"[\": score = score * 5 + 2\n",
    "        if e == \"{\": score = score * 5 + 3\n",
    "        if e == \"<\": score = score * 5 + 4\n",
    "\n",
    "    return score\n",
    "\n",
    "    \n",
    "\n",
    "\n",
    "def part_1(rows: list[str]) -> int:\n",
    "    return sum([find_first_illegal(r) for r in rows])\n",
    "\n",
    "def part_2(rows: list[str]) -> int:\n",
    "    incomplete_rows = [r for r in rows if find_first_illegal(r) == 0]\n",
    "    scores = sorted([autocomplete_incomplete_lines(r) for r in incomplete_rows])\n",
    "\n",
    "    return scores[int(len(scores) / 2)]\n",
    "    "
   ]
  },
  {
   "cell_type": "code",
   "execution_count": 124,
   "metadata": {},
   "outputs": [
    {
     "name": "stdout",
     "output_type": "stream",
     "text": [
      "test \n",
      "Part 1: 26397\n",
      "Part 2: 288957\n",
      "\n",
      "real \n",
      "Part 1: 268845\n",
      "Part 2: 4038824534\n",
      "\n"
     ]
    }
   ],
   "source": [
    "def main(file, type):\n",
    "    rows: list[str] = file.read().splitlines()\n",
    "\n",
    "    result1 = part_1(rows)\n",
    "    result2 = part_2(rows)\n",
    "\n",
    "    print(f\"{type} \\nPart 1: {result1}\\nPart 2: {result2}\\n\")\n",
    "\n",
    "\n",
    "with open(\"../test.txt\") as input_file:\n",
    "    main(input_file, \"test\")\n",
    "\n",
    "with open(\"../input.txt\") as input_file:\n",
    "    main(input_file, \"real\")"
   ]
  }
 ],
 "metadata": {
  "interpreter": {
   "hash": "db580b56788f7e7264820304fb034da45b7fb993299b660d673d291b6a838a8e"
  },
  "kernelspec": {
   "display_name": "Python 3.10.0 64-bit ('3.10.0': pyenv)",
   "language": "python",
   "name": "python3"
  },
  "language_info": {
   "codemirror_mode": {
    "name": "ipython",
    "version": 3
   },
   "file_extension": ".py",
   "mimetype": "text/x-python",
   "name": "python",
   "nbconvert_exporter": "python",
   "pygments_lexer": "ipython3",
   "version": "3.10.0"
  },
  "orig_nbformat": 4
 },
 "nbformat": 4,
 "nbformat_minor": 2
}
