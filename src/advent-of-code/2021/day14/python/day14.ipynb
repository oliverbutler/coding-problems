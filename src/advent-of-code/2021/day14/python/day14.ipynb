{
 "cells": [
  {
   "cell_type": "code",
   "execution_count": 8,
   "metadata": {},
   "outputs": [
    {
     "name": "stdout",
     "output_type": "stream",
     "text": [
      "Test \n",
      "Part 1: 1588\n",
      "Part 2: 2188189693529\n",
      "\n",
      "Real \n",
      "Part 1: 2447\n",
      "Part 2: 3018019237563\n",
      "\n"
     ]
    }
   ],
   "source": [
    "from collections import defaultdict\n",
    "\n",
    "def step(current: defaultdict[str, int], rules: dict[str, str], count_letters: defaultdict[str, int]):\n",
    "    dict_of_pairs: dict[str, int] = defaultdict(int)\n",
    "    count_of_letters: dict[str, int] = count_letters.copy()\n",
    "\n",
    "    for c in current.keys():\n",
    "        if rules.get(c):\n",
    "            dict_of_pairs[\"\".join([c[0], rules[c]])] += current[c]\n",
    "            dict_of_pairs[\"\".join([rules[c], c[1]])] += current[c]\n",
    "            count_of_letters[rules[c]] += current[c]\n",
    "        else:\n",
    "            dict_of_pairs[c] += current[c]\n",
    "\n",
    "    return dict_of_pairs, count_of_letters\n",
    "\n",
    "def part_2(initial: list[str], rules: dict[str, str], steps: int):\n",
    "    dict_of_pairs: defaultdict[str, int] = defaultdict(int)\n",
    "    count_of_letters: defaultdict[str, int] = defaultdict(int)\n",
    "\n",
    "    for c in initial:\n",
    "        count_of_letters[c] += 1\n",
    "\n",
    "    for c in range(len(initial) - 1):\n",
    "        dict_of_pairs[\"\".join([initial[c],initial[c + 1]])] += 1\n",
    "\n",
    "    for _ in range(steps):\n",
    "        dict_of_pairs, count_of_letters = step(dict_of_pairs, rules, count_of_letters)\n",
    "\n",
    "    return max(count_of_letters.values()) - min(count_of_letters.values())\n",
    "\n",
    "def main(file, type):\n",
    "    rows: list[str] = file.read().splitlines()\n",
    "\n",
    "    initial = [c for c in rows[0]]\n",
    "    rules = [r.split(\" -> \") for r in rows[2:]]\n",
    "    rules = {r[0]: r[1] for r in rules}\n",
    "\n",
    "    result1 = part_2(initial, rules, 10)\n",
    "    result2 = part_2(initial, rules, 40)\n",
    "\n",
    "    print(f\"{type} \\nPart 1: {result1}\\nPart 2: {result2}\\n\")\n",
    "\n",
    "with open(\"../test.txt\") as input_file:\n",
    "    main(input_file, \"Test\")\n",
    "\n",
    "with open(\"../input.txt\") as input_file:\n",
    "    main(input_file, \"Real\")"
   ]
  },
  {
   "cell_type": "code",
   "execution_count": null,
   "metadata": {},
   "outputs": [],
   "source": []
  }
 ],
 "metadata": {
  "interpreter": {
   "hash": "db580b56788f7e7264820304fb034da45b7fb993299b660d673d291b6a838a8e"
  },
  "kernelspec": {
   "display_name": "Python 3.10.0 64-bit ('3.10.0': pyenv)",
   "language": "python",
   "name": "python3"
  },
  "language_info": {
   "codemirror_mode": {
    "name": "ipython",
    "version": 3
   },
   "file_extension": ".py",
   "mimetype": "text/x-python",
   "name": "python",
   "nbconvert_exporter": "python",
   "pygments_lexer": "ipython3",
   "version": "3.10.0"
  },
  "orig_nbformat": 4
 },
 "nbformat": 4,
 "nbformat_minor": 2
}
