{
 "cells": [
  {
   "cell_type": "code",
   "execution_count": 1,
   "metadata": {},
   "outputs": [
    {
     "name": "stdout",
     "output_type": "stream",
     "text": [
      "Test \n",
      "Part 1: 10\n",
      "Part 2: 36\n",
      "\n",
      "Real \n",
      "Part 1: 3497\n",
      "Part 2: 93686\n",
      "\n"
     ]
    }
   ],
   "source": [
    "def search(edges: dict[str, set[str]], allow_duplicate: bool):\n",
    "    paths = 0\n",
    "    def dfs(s: set[str], e: str, dup: bool):\n",
    "        nonlocal paths\n",
    "        if e == \"end\":\n",
    "            paths += 1\n",
    "        else:\n",
    "            for child in edges[e]:\n",
    "                if child.islower():\n",
    "                    if child not in s:\n",
    "                        dfs(s | {child}, child, dup)\n",
    "                    elif dup and child not in {\"start\", \"end\"}:\n",
    "                        dfs(s | {child}, child, dup=False)\n",
    "                else:\n",
    "                    dfs(s, child, dup)\n",
    "    dfs({'start'}, \"start\", allow_duplicate)\n",
    "    return paths\n",
    "\n",
    "def main(file, type):\n",
    "    rows: list[list[str]] = [row.split(\"-\") for row in file.read().splitlines()]\n",
    "\n",
    "    nodes: set[str] = set()\n",
    "    edges: dict[str, set[str]] = {}\n",
    "\n",
    "    [[nodes.add(node) for node in row] for row in rows]\n",
    "    for node in nodes: edges[node] = set()\n",
    "    for row in rows: edges[row[0]].add(row[1])\n",
    "    for row in rows: edges[row[1]].add(row[0])\n",
    "\n",
    "    result1 = search(edges, False)\n",
    "    result2 = search(edges, True)\n",
    "\n",
    "    print(f\"{type} \\nPart 1: {result1}\\nPart 2: {result2}\\n\")\n",
    "\n",
    "with open(\"../test.txt\") as input_file:\n",
    "    main(input_file, \"Test\")\n",
    "\n",
    "with open(\"../input.txt\") as input_file:\n",
    "    main(input_file, \"Real\")"
   ]
  }
 ],
 "metadata": {
  "interpreter": {
   "hash": "db580b56788f7e7264820304fb034da45b7fb993299b660d673d291b6a838a8e"
  },
  "kernelspec": {
   "display_name": "Python 3.10.0 64-bit ('3.10.0': pyenv)",
   "language": "python",
   "name": "python3"
  },
  "language_info": {
   "codemirror_mode": {
    "name": "ipython",
    "version": 3
   },
   "file_extension": ".py",
   "mimetype": "text/x-python",
   "name": "python",
   "nbconvert_exporter": "python",
   "pygments_lexer": "ipython3",
   "version": "3.10.0"
  },
  "orig_nbformat": 4
 },
 "nbformat": 4,
 "nbformat_minor": 2
}
