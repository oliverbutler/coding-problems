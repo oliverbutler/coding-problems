{
 "cells": [
  {
   "cell_type": "code",
   "execution_count": 35,
   "metadata": {},
   "outputs": [
    {
     "name": "stdout",
     "output_type": "stream",
     "text": [
      "Test \n",
      "Part 1: 40\n",
      "Part 2: 315\n",
      "\n",
      "Real \n",
      "Part 1: 441\n",
      "Part 2: 2849\n",
      "\n"
     ]
    }
   ],
   "source": [
    "from queue import PriorityQueue\n",
    "from collections import defaultdict\n",
    "import sys\n",
    "\n",
    "def dijkstra(nodes: dict[tuple[int, int], int], start: tuple[int, int], end: tuple[int, int]):\n",
    "\n",
    "    d: dict[tuple[int, int], int]= defaultdict(lambda: sys.maxsize)\n",
    "    d[start] = 0\n",
    "    \n",
    "    pq: PriorityQueue[tuple[int, tuple[int, int]]] = PriorityQueue()\n",
    "    pq.put((0, start))\n",
    "\n",
    "    visited = set()\n",
    "\n",
    "    while not pq.empty():\n",
    "        _, node = pq.get()\n",
    "\n",
    "        visited.add(node)\n",
    "\n",
    "        for neighbour in [(node[0]-1, node[1]), (node[0]+1, node[1]), (node[0], node[1]-1), (node[0], node[1]+1)]:\n",
    "            if nodes[neighbour] != -1:\n",
    "                if neighbour not in visited:\n",
    "                    distance_to_neighbour = nodes[neighbour]\n",
    "                    start_to_neighbour_current = d[neighbour]\n",
    "                    start_to_neighbour_new = d[node] + distance_to_neighbour\n",
    "                    if start_to_neighbour_new < start_to_neighbour_current:\n",
    "                        d[neighbour] = start_to_neighbour_new\n",
    "                        pq.put((start_to_neighbour_new, neighbour))\n",
    "                    \n",
    "    return d[end]\n",
    "\n",
    "def main(file, type):\n",
    "    rows = file.read().splitlines()\n",
    "\n",
    "    part_1_nodes: dict[tuple[int, int], int] = defaultdict(lambda: -1)\n",
    "\n",
    "    for r, row in enumerate(rows):\n",
    "        for c, col in enumerate(row):\n",
    "            part_1_nodes[(r,c)] = int(col)\n",
    "\n",
    "    part_2_nodes: dict[tuple[int, int], int] = defaultdict(lambda: -1)\n",
    "\n",
    "    for r, row in enumerate(rows):\n",
    "        for c, col in enumerate(row):\n",
    "            grid_width = len(row)\n",
    "            grid_height = len(rows)\n",
    "            # Spread across 5 squares of the grid\n",
    "            for i in range(5):\n",
    "                for j in range(5):\n",
    "                    new_val = 1+(int(col)-1+i+j)%9\n",
    "                    part_2_nodes[(r+(grid_width*i), c+(grid_height*j))] = new_val\n",
    "\n",
    "    result1 = dijkstra(part_1_nodes, (0,0), (len(rows)-1, len(rows[0])-1))\n",
    "    result2 = dijkstra(part_2_nodes, (0,0), (len(rows)*5-1, len(rows[0])*5-1))\n",
    "\n",
    "    print(f\"{type} \\nPart 1: {result1}\\nPart 2: {result2}\\n\")\n",
    "\n",
    "with open(\"../test.txt\") as input_file:\n",
    "    main(input_file, \"Test\")\n",
    "\n",
    "with open(\"../input.txt\") as input_file:\n",
    "    main(input_file, \"Real\")"
   ]
  },
  {
   "cell_type": "code",
   "execution_count": null,
   "metadata": {},
   "outputs": [],
   "source": []
  }
 ],
 "metadata": {
  "interpreter": {
   "hash": "db580b56788f7e7264820304fb034da45b7fb993299b660d673d291b6a838a8e"
  },
  "kernelspec": {
   "display_name": "Python 3.10.0 64-bit ('3.10.0': pyenv)",
   "language": "python",
   "name": "python3"
  },
  "language_info": {
   "codemirror_mode": {
    "name": "ipython",
    "version": 3
   },
   "file_extension": ".py",
   "mimetype": "text/x-python",
   "name": "python",
   "nbconvert_exporter": "python",
   "pygments_lexer": "ipython3",
   "version": "3.10.0"
  },
  "orig_nbformat": 4
 },
 "nbformat": 4,
 "nbformat_minor": 2
}
