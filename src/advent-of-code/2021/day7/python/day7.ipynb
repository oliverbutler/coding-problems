{
 "cells": [
  {
   "cell_type": "code",
   "execution_count": 1,
   "metadata": {},
   "outputs": [],
   "source": [
    "import math\n",
    "\n",
    "def get_easiest_position(data: list[int]):\n",
    "    data = sorted(data)\n",
    "    target = data[len(data) // 2 ]\n",
    "    return sum(abs(i - target) for i in data)\n",
    "\n",
    "def get_easiest_position_2(data: list[int]):\n",
    "    target = sum(data) / len(data)\n",
    "    tri = lambda x: x * (x + 1) // 2\n",
    "\n",
    "    return min(\n",
    "        sum(tri(abs(i - math.floor(target))) for i in data),\n",
    "        sum(tri(abs(i - math.ceil(target))) for i in data)\n",
    "    )"
   ]
  },
  {
   "cell_type": "code",
   "execution_count": 2,
   "metadata": {},
   "outputs": [
    {
     "name": "stdout",
     "output_type": "stream",
     "text": [
      "test 37 168\n",
      "real 347011 98363777\n"
     ]
    }
   ],
   "source": [
    "def main(file, type):\n",
    "    data: list[int] = [int(i) for i in file.readlines()[0].split(',')]\n",
    "\n",
    "    print(type, get_easiest_position(data), get_easiest_position_2(data))    \n",
    "\n",
    "    \n",
    "\n",
    "with open(\"../test.txt\") as input_file:\n",
    "    main(input_file, \"test\")\n",
    "\n",
    "with open(\"../input.txt\") as input_file:\n",
    "    main(input_file, \"real\")"
   ]
  }
 ],
 "metadata": {
  "interpreter": {
   "hash": "db580b56788f7e7264820304fb034da45b7fb993299b660d673d291b6a838a8e"
  },
  "kernelspec": {
   "display_name": "Python 3.10.0 64-bit ('3.10.0': pyenv)",
   "language": "python",
   "name": "python3"
  },
  "language_info": {
   "codemirror_mode": {
    "name": "ipython",
    "version": 3
   },
   "file_extension": ".py",
   "mimetype": "text/x-python",
   "name": "python",
   "nbconvert_exporter": "python",
   "pygments_lexer": "ipython3",
   "version": "3.10.0"
  },
  "orig_nbformat": 4
 },
 "nbformat": 4,
 "nbformat_minor": 2
}
