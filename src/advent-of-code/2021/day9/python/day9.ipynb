{
 "cells": [
  {
   "cell_type": "code",
   "execution_count": 60,
   "metadata": {},
   "outputs": [
    {
     "name": "stdout",
     "output_type": "stream",
     "text": [
      "test 15 1134\n",
      "real 532 1110780\n"
     ]
    }
   ],
   "source": [
    "from functools import reduce\n",
    "\n",
    "def get_low_points(data: list[list[int]]):\n",
    "    low_points: list[tuple[int, int]] = []\n",
    "\n",
    "    for r in range(len(data)):\n",
    "        for c in range(len(data[0])):\n",
    "            val = int(data[r][c])\n",
    "            top = int(data[r-1][c]) if r > 0 else 10\n",
    "            left = int(data[r][c-1]) if c > 0 else 10\n",
    "            right = int(data[r][c+1]) if c < len(data[0])-1 else 10\n",
    "            bottom = int(data[r+1][c]) if r < len(data)-1 else 10\n",
    "\n",
    "            if val < top and val < left and val < right and val < bottom:\n",
    "                low_points.append((r, c))\n",
    "\n",
    "    return low_points\n",
    "\n",
    "def basin_size(point: tuple[int, int], data: list[list[int]]):\n",
    "    points_in_flood: set[tuple[int, int]] = set()\n",
    "\n",
    "    def fill(p: tuple[int, int]):\n",
    "        if int(data[p[0]][p[1]]) < 9 and p not in points_in_flood:\n",
    "            points_in_flood.add(p)\n",
    "            if p[0] > 0:\n",
    "                fill((p[0]-1, p[1]))\n",
    "            if p[0] < len(data)-1:\n",
    "                fill((p[0]+1, p[1]))\n",
    "            if p[1] > 0:\n",
    "                fill((p[0], p[1]-1))\n",
    "            if p[1] < len(data[0])-1:\n",
    "                fill((p[0], p[1]+1))\n",
    "                \n",
    "    fill(point)\n",
    "    return len(points_in_flood)\n",
    "\n",
    "\n",
    "def part_1(data: list[list[int]]):\n",
    "    return sum([int(data[h[0]][h[1]]) + 1 for h in get_low_points(data)])\n",
    "            \n",
    "def part_2(data: list[list[int]]):\n",
    "    return reduce(lambda x, y: x*y, sorted([basin_size(p, data) for p in get_low_points(data)])[-3:])\n",
    "\n",
    "\n",
    "\n",
    "def main(file, type):\n",
    "    rows = [list(line) for line in file.read().splitlines()]\n",
    "\n",
    "    print(type, part_1(rows), part_2(rows))\n",
    "\n",
    "\n",
    "with open(\"../test.txt\") as input_file:\n",
    "    main(input_file, \"test\")\n",
    "\n",
    "with open(\"../input.txt\") as input_file:\n",
    "    main(input_file, \"real\")"
   ]
  }
 ],
 "metadata": {
  "interpreter": {
   "hash": "db580b56788f7e7264820304fb034da45b7fb993299b660d673d291b6a838a8e"
  },
  "kernelspec": {
   "display_name": "Python 3.10.0 64-bit ('3.10.0': pyenv)",
   "language": "python",
   "name": "python3"
  },
  "language_info": {
   "codemirror_mode": {
    "name": "ipython",
    "version": 3
   },
   "file_extension": ".py",
   "mimetype": "text/x-python",
   "name": "python",
   "nbconvert_exporter": "python",
   "pygments_lexer": "ipython3",
   "version": "3.10.0"
  },
  "orig_nbformat": 4
 },
 "nbformat": 4,
 "nbformat_minor": 2
}
