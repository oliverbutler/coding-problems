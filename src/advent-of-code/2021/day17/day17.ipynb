{
 "cells": [
  {
   "cell_type": "code",
   "execution_count": 64,
   "metadata": {},
   "outputs": [
    {
     "name": "stdout",
     "output_type": "stream",
     "text": [
      "(45, 112)\n",
      "(5565, 2118)\n"
     ]
    }
   ],
   "source": [
    "def does_intersect_target(vx, vy, x1, y1, x2, y2) -> int:\n",
    "    x, y = 0, 0\n",
    "    vel_x, vel_y = vx, vy\n",
    "    high_y, low_y, high_x, low_x = max(y1, y2), min(y1, y2), max(x1, x2), min(x1, x2) \n",
    "    \n",
    "    out_of_bounds = False\n",
    "    max_y_reached = 0\n",
    "\n",
    "    while not out_of_bounds:\n",
    "        x += vel_x\n",
    "        y += vel_y\n",
    "        max_y_reached = max(y, max_y_reached)\n",
    "\n",
    "        # if moving to the right\n",
    "        if vel_x > 0 and x > high_x:\n",
    "            out_of_bounds = True\n",
    "        \n",
    "        # if moving to the left\n",
    "        elif vel_x < 0 and x < low_x:\n",
    "            out_of_bounds = True\n",
    "\n",
    "        # if below the lowest y\n",
    "        elif vel_y < 0 and y < low_y:\n",
    "            out_of_bounds = True\n",
    "\n",
    "\n",
    "        #  if within the bounds\n",
    "        elif x >= low_x and x <= high_x and y >= low_y and y <= high_y:\n",
    "            return max_y_reached\n",
    "\n",
    "        vel_x += 0 if vel_x == 0 else (-1 if vel_x > 0 else 1)\n",
    "        vel_y -= 1\n",
    "    \n",
    "    return -1\n",
    "\n",
    "\n",
    "def solve_for_max_y(x1, y1, x2, y2):\n",
    "    answers = []\n",
    "    for vy in range(-200, 200):\n",
    "        for vx in range(-200, 200):\n",
    "            intersect = does_intersect_target(vy=vy, vx=vx, x1=x1, y1=y1, x2=x2, y2=y2)\n",
    "            if intersect != -1:\n",
    "                answers.append(intersect)\n",
    "\n",
    "    return max(answers), len(answers)\n",
    "\n",
    "print(solve_for_max_y(20, -10, 30, -5))\n",
    "\n",
    "print(solve_for_max_y(143, -106, 177, -71))\n"
   ]
  }
 ],
 "metadata": {
  "interpreter": {
   "hash": "db580b56788f7e7264820304fb034da45b7fb993299b660d673d291b6a838a8e"
  },
  "kernelspec": {
   "display_name": "Python 3.10.0 64-bit ('3.10.0': pyenv)",
   "language": "python",
   "name": "python3"
  },
  "language_info": {
   "codemirror_mode": {
    "name": "ipython",
    "version": 3
   },
   "file_extension": ".py",
   "mimetype": "text/x-python",
   "name": "python",
   "nbconvert_exporter": "python",
   "pygments_lexer": "ipython3",
   "version": "3.10.0"
  },
  "orig_nbformat": 4
 },
 "nbformat": 4,
 "nbformat_minor": 2
}
