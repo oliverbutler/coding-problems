{
 "cells": [
  {
   "cell_type": "code",
   "execution_count": 3,
   "metadata": {},
   "outputs": [],
   "source": [
    "def process_submarine_instructions(data: list[tuple[str, int]]) -> int:\n",
    "    depth = 0\n",
    "    forward = 0\n",
    "    for instruction in data:\n",
    "        match instruction[0]:\n",
    "            case \"forward\":\n",
    "                forward += instruction[1]\n",
    "            case \"up\":\n",
    "                depth -= instruction[1]\n",
    "            case \"down\":\n",
    "                depth += instruction[1]\n",
    "    return depth * forward\n",
    "\n",
    "def process_submarine_with_aim(data: list[list]) -> int:\n",
    "    depth = 0\n",
    "    forward = 0\n",
    "    aim = 0\n",
    "    for instruction in data:\n",
    "        match instruction[0]:\n",
    "            case \"forward\":\n",
    "                forward += instruction[1]\n",
    "                depth += instruction[1] * aim\n",
    "            case \"up\":\n",
    "                aim -= instruction[1]\n",
    "            case \"down\":\n",
    "                aim += instruction[1]\n",
    "    return depth * forward"
   ]
  },
  {
   "cell_type": "code",
   "execution_count": 4,
   "metadata": {},
   "outputs": [
    {
     "name": "stdout",
     "output_type": "stream",
     "text": [
      "150 900\n",
      "1714680 1963088820\n"
     ]
    }
   ],
   "source": [
    "def main(file, type):\n",
    "    data = [(i.split()[0], int(i.split()[1])) for i in input_file.read().splitlines()]\n",
    "    print (f'{process_submarine_instructions(data)} {process_submarine_with_aim(data)}')\n",
    "\n",
    "with open(\"test.txt\") as input_file:\n",
    "    main(input_file, \"test\")\n",
    "\n",
    "with open(\"input.txt\") as input_file:\n",
    "    main(input_file, \"real\")\n",
    "\n",
    "    \n"
   ]
  }
 ],
 "metadata": {
  "interpreter": {
   "hash": "b0fa6594d8f4cbf19f97940f81e996739fb7646882a419484c72d19e05852a7e"
  },
  "kernelspec": {
   "display_name": "Python 3.9.7 64-bit",
   "language": "python",
   "name": "python3"
  },
  "language_info": {
   "codemirror_mode": {
    "name": "ipython",
    "version": 3
   },
   "file_extension": ".py",
   "mimetype": "text/x-python",
   "name": "python",
   "nbconvert_exporter": "python",
   "pygments_lexer": "ipython3",
   "version": "3.10.0"
  },
  "orig_nbformat": 4
 },
 "nbformat": 4,
 "nbformat_minor": 2
}
