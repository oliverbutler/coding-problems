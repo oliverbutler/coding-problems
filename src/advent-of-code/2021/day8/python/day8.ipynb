{
 "cells": [
  {
   "cell_type": "code",
   "execution_count": 1,
   "metadata": {},
   "outputs": [
    {
     "name": "stdout",
     "output_type": "stream",
     "text": [
      "test 26\n",
      "real 530\n"
     ]
    }
   ],
   "source": [
    "from collections import defaultdict\n",
    "\n",
    "Data = list[tuple[list[str], list[str]]]\n",
    "\n",
    "\n",
    "def part_1(data: Data) -> int:\n",
    "\n",
    "    count = 0\n",
    "\n",
    "    for row in data:\n",
    "        rhs = row[1]\n",
    "        for string in rhs:\n",
    "            if (\n",
    "                len(string) == 2\n",
    "                or len(string) == 4\n",
    "                or len(string) == 3\n",
    "                or len(string) == 7\n",
    "            ):\n",
    "                count += 1\n",
    "\n",
    "    return count\n",
    "\n",
    "# be        1\n",
    "# cfbegad   8   \n",
    "# cbdgef    \n",
    "# fgaecd\n",
    "# cgeb      4\n",
    "# fdcge\n",
    "# agebfd\n",
    "# fecdb\n",
    "# fabcd\n",
    "# edb       7\n",
    "\n",
    "\n",
    "# top = 1 | 7 = d\n",
    "#  d\n",
    "# X X\n",
    "#  X\n",
    "# X X\n",
    "#  X\n",
    "\n",
    "\n",
    "\n",
    "def part_2(data: Data) -> int:\n",
    "\n",
    "    count = 0\n",
    "\n",
    "    # for row in data:\n",
    "\n",
    "    return count\n",
    "\n",
    "\n",
    "def main(file, type):\n",
    "    rows = [i.split(\" | \") for i in file.readlines()]\n",
    "\n",
    "    rows: Data = [(r[0], r[1]) for r in [[x.split() for x in r] for r in rows]]\n",
    "\n",
    "    print(type, part_1(rows))\n",
    "\n",
    "\n",
    "with open(\"../test.txt\") as input_file:\n",
    "    main(input_file, \"test\")\n",
    "\n",
    "with open(\"../input.txt\") as input_file:\n",
    "    main(input_file, \"real\")"
   ]
  }
 ],
 "metadata": {
  "interpreter": {
   "hash": "db580b56788f7e7264820304fb034da45b7fb993299b660d673d291b6a838a8e"
  },
  "kernelspec": {
   "display_name": "Python 3.10.0 64-bit ('3.10.0': pyenv)",
   "language": "python",
   "name": "python3"
  },
  "language_info": {
   "codemirror_mode": {
    "name": "ipython",
    "version": 3
   },
   "file_extension": ".py",
   "mimetype": "text/x-python",
   "name": "python",
   "nbconvert_exporter": "python",
   "pygments_lexer": "ipython3",
   "version": "3.10.0"
  },
  "orig_nbformat": 4
 },
 "nbformat": 4,
 "nbformat_minor": 2
}
