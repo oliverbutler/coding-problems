{
 "cells": [
  {
   "cell_type": "code",
   "execution_count": 57,
   "metadata": {},
   "outputs": [
    {
     "name": "stdout",
     "output_type": "stream",
     "text": [
      "test part1:  26\n",
      "test part2:  61229\n",
      "real part1:  530\n",
      "real part2:  1051087\n"
     ]
    }
   ],
   "source": [
    "from typing import Callable\n",
    "\n",
    "Data = list[tuple[list[str], list[str]]]\n",
    "\n",
    "def calc_nums(nums) -> list[str]:\n",
    "    def find_n(length: int, condition: Callable[[str], bool]) -> str:\n",
    "        return [x for x in nums if len(x) == length and condition(x)][0]\n",
    "\n",
    "    n1 = find_n(2, lambda x: True)\n",
    "    n4 = find_n(4, lambda x: True)\n",
    "    n7 = find_n(3, lambda x: True)\n",
    "    n8 = find_n(7, lambda x: True)\n",
    "    n9 = find_n(6, lambda x: all(y in x for y in n4))\n",
    "    n0 = find_n(6, lambda x: x != n9 and all(y in x for y in n1))\n",
    "    n6 = find_n(6, lambda x: x != n9 and x != n0)\n",
    "    n3 = find_n(5, lambda x: all(y in x for y in n1))\n",
    "    n5 = find_n(5, lambda x: x != n3 and all(y in n9 for y in x))\n",
    "    n2 = find_n(5, lambda x: x != n3 and x != n5)\n",
    "\n",
    "    return [n0, n1, n2, n3, n4, n5, n6, n7, n8, n9]\n",
    "\n",
    "\n",
    "def part_1(data: Data) -> int:\n",
    "    count = 0\n",
    "    for row in data:\n",
    "        nums = calc_nums(row[0])\n",
    "        simple_set = [nums[y] for y in [1, 4, 7, 8]]\n",
    "        count += sum(1 for x in row[1] if x in simple_set)\n",
    "\n",
    "    return count\n",
    "\n",
    "\n",
    "def part_2(data: Data) -> int:\n",
    "    total = 0\n",
    "    for row in data:\n",
    "        nums = calc_nums(row[0])\n",
    "        total += int(\"\".join([str(nums.index(out)) for out in row[1]]))\n",
    "    return total\n",
    "\n",
    "\n",
    "def main(file, type):\n",
    "    rows = [i.split(\" | \") for i in file.readlines()]\n",
    "\n",
    "    data = []\n",
    "    for row in rows:\n",
    "        i = [\"\".join(sorted(x)) for x in row[0].split()]\n",
    "        j = [\"\".join(sorted(x)) for x in row[1].split()]\n",
    "        data.append((i, j))\n",
    "\n",
    "    print(type, \"part1: \", part_1(data))\n",
    "    print(type, \"part2: \", part_2(data))\n",
    "\n",
    "\n",
    "with open(\"../test.txt\") as input_file:\n",
    "    main(input_file, \"test\")\n",
    "\n",
    "with open(\"../input.txt\") as input_file:\n",
    "    main(input_file, \"real\")"
   ]
  }
 ],
 "metadata": {
  "interpreter": {
   "hash": "db580b56788f7e7264820304fb034da45b7fb993299b660d673d291b6a838a8e"
  },
  "kernelspec": {
   "display_name": "Python 3.10.0 64-bit ('3.10.0': pyenv)",
   "language": "python",
   "name": "python3"
  },
  "language_info": {
   "codemirror_mode": {
    "name": "ipython",
    "version": 3
   },
   "file_extension": ".py",
   "mimetype": "text/x-python",
   "name": "python",
   "nbconvert_exporter": "python",
   "pygments_lexer": "ipython3",
   "version": "3.10.0"
  },
  "orig_nbformat": 4
 },
 "nbformat": 4,
 "nbformat_minor": 2
}
