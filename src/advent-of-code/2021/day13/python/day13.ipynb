{
 "cells": [
  {
   "cell_type": "code",
   "execution_count": 115,
   "metadata": {},
   "outputs": [
    {
     "name": "stdout",
     "output_type": "stream",
     "text": [
      "# # # # # \n",
      "#       # \n",
      "#       # \n",
      "#       # \n",
      "# # # # # \n",
      "Test \n",
      "Part 1: 17\n",
      "Part 2: 16\n",
      "\n",
      "# # #     #         #     #   # # # #       # #   # # #         # #   # # # # \n",
      "#     #   #         #     #   #               #   #     #         #   #       \n",
      "# # #     #         # # # #   # # #           #   #     #         #   # # #   \n",
      "#     #   #         #     #   #               #   # # #           #   #       \n",
      "#     #   #         #     #   #         #     #   #         #     #   #       \n",
      "# # #     # # # #   #     #   #           # #     #           # #     #       \n",
      "Real \n",
      "Part 1: 712\n",
      "Part 2: 90\n",
      "\n"
     ]
    }
   ],
   "source": [
    "def fold_paper(points: set[tuple[int, int]], folds: list[tuple[str, int]], plot=False):\n",
    "    pts = points.copy()\n",
    "    for fold in folds:\n",
    "        new_pts = set()\n",
    "        for p in pts:\n",
    "            x = (p[0] - (p[0]-fold[1])*2 if p[0] > fold[1] else p[0]) if fold[0] == \"x\" else p[0]\n",
    "            y = (p[1] - (p[1]-fold[1])*2 if p[1] > fold[1] else p[1]) if fold[0] == \"y\" else p[1]\n",
    "            new_pts.add((x, y))\n",
    "        pts = new_pts.copy()\n",
    "\n",
    "    if plot: \n",
    "        pretty_print(pts)\n",
    "\n",
    "    return len(pts)\n",
    "\n",
    "def pretty_print(points: set[tuple[int, int]]):\n",
    "    max_x, max_y = 0, 0\n",
    "    for p in points:\n",
    "        max_x = max(max_x, p[0])\n",
    "        max_y = max(max_y, p[1])\n",
    "\n",
    "    for y in range(max_y+1):\n",
    "        for x in range(max_x+1):\n",
    "            if (x, y) in points:\n",
    "                print(\"# \", end=\"\")\n",
    "            else:\n",
    "                print(\"  \", end=\"\")\n",
    "        print()\n",
    "\n",
    "    \n",
    "def main(file, type):\n",
    "    rows: list[str] = file.read().splitlines()\n",
    "\n",
    "    points: set[tuple[int, int]] = set()\n",
    "    folds: list[tuple[str, int]] = []\n",
    "\n",
    "    for row in rows:\n",
    "        if row.startswith(\"fold\"):\n",
    "            fold = row.split(\" \")\n",
    "            direct = fold[2].split(\"=\")\n",
    "            folds.append((direct[0], int(direct[1])))\n",
    "        elif row != \"\":\n",
    "            x = row.split(\",\")\n",
    "            points.add((int(x[0]),int(x[1])))\n",
    "\n",
    "    result1 = fold_paper(points, [folds[0]], plot=False)\n",
    "    result2 = fold_paper(points, folds, plot=(not type == \"test\"))\n",
    "\n",
    "    print(f\"{type} \\nPart 1: {result1}\\nPart 2: {result2}\\n\")\n",
    "\n",
    "with open(\"../test.txt\") as input_file:\n",
    "    main(input_file, \"Test\")\n",
    "\n",
    "with open(\"../input.txt\") as input_file:\n",
    "    main(input_file, \"Real\")"
   ]
  }
 ],
 "metadata": {
  "interpreter": {
   "hash": "db580b56788f7e7264820304fb034da45b7fb993299b660d673d291b6a838a8e"
  },
  "kernelspec": {
   "display_name": "Python 3.10.0 64-bit ('3.10.0': pyenv)",
   "language": "python",
   "name": "python3"
  },
  "language_info": {
   "codemirror_mode": {
    "name": "ipython",
    "version": 3
   },
   "file_extension": ".py",
   "mimetype": "text/x-python",
   "name": "python",
   "nbconvert_exporter": "python",
   "pygments_lexer": "ipython3",
   "version": "3.10.0"
  },
  "orig_nbformat": 4
 },
 "nbformat": 4,
 "nbformat_minor": 2
}
