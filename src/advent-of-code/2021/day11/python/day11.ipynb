{
 "cells": [
  {
   "cell_type": "code",
   "execution_count": 99,
   "metadata": {},
   "outputs": [
    {
     "name": "stdout",
     "output_type": "stream",
     "text": [
      "Test \n",
      "Part 1: 1656\n",
      "Part 2: 195\n",
      "\n",
      "Real \n",
      "Part 1: 1601\n",
      "Part 2: 368\n",
      "\n"
     ]
    }
   ],
   "source": [
    "import copy\n",
    "\n",
    "def process_cell(matrix: list[list[int]], x: int, y: int):\n",
    "    if x < 0 or y < 0 or x >= len(matrix[0]) or y >= len(matrix):\n",
    "        return\n",
    "\n",
    "    if matrix[y][x] >= 0:\n",
    "        matrix[y][x] += 1\n",
    "    if matrix[y][x] == 10:\n",
    "        matrix[y][x] = -1 # incate flashed this step \n",
    "        for direction in [(0, 1), (1, 0), (0, -1), (-1, 0), (1, 1), (-1, -1), (1, -1), (-1, 1)]:\n",
    "            process_cell(matrix, x + direction[0], y + direction[1])\n",
    "\n",
    "def step_octopus(matrix: list[list[int]]) -> int:\n",
    "    for x in range(len(matrix[0])):\n",
    "        for y in range(len(matrix)):\n",
    "            process_cell(matrix, x, y)\n",
    "    flashed = 0 \n",
    "    # Reset all flashed cells to 0\n",
    "    for x in range(len(matrix[0])):\n",
    "        for y in range(len(matrix)):\n",
    "            if(matrix[y][x] == -1):\n",
    "                matrix[y][x] = 0\n",
    "                flashed += 1\n",
    "    return flashed\n",
    "                \n",
    "def part_1(matrix: list[list[int]]) -> int:\n",
    "    return sum([step_octopus(matrix) for _ in range(100)])\n",
    "\n",
    "def part_2(matrix: list[list[int]]):\n",
    "    step = 0\n",
    "    while True:\n",
    "        step += 1\n",
    "        if step_octopus(matrix) == 100:\n",
    "            return step\n",
    "\n",
    "def main(file, type):\n",
    "    matrix: list[list[int]] = [[int(c) for c in row] for row in file.read().splitlines()]\n",
    "\n",
    "    result1 = part_1(copy.deepcopy(matrix))\n",
    "    result2 = part_2(copy.deepcopy(matrix))\n",
    "\n",
    "    print(f\"{type} \\nPart 1: {result1}\\nPart 2: {result2}\\n\")\n",
    "\n",
    "\n",
    "with open(\"../test.txt\") as input_file:\n",
    "    main(input_file, \"Test\")\n",
    "\n",
    "with open(\"../input.txt\") as input_file:\n",
    "    main(input_file, \"Real\")"
   ]
  }
 ],
 "metadata": {
  "interpreter": {
   "hash": "db580b56788f7e7264820304fb034da45b7fb993299b660d673d291b6a838a8e"
  },
  "kernelspec": {
   "display_name": "Python 3.10.0 64-bit ('3.10.0': pyenv)",
   "language": "python",
   "name": "python3"
  },
  "language_info": {
   "name": "python",
   "version": "3.10.0"
  },
  "orig_nbformat": 4
 },
 "nbformat": 4,
 "nbformat_minor": 2
}
